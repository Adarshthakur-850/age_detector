{
  "nbformat": 4,
  "nbformat_minor": 0,
  "metadata": {
    "colab": {
      "provenance": [],
      "authorship_tag": "ABX9TyNIHqy8zdBfPt0ratLAYK0C",
      "include_colab_link": true
    },
    "kernelspec": {
      "name": "python3",
      "display_name": "Python 3"
    },
    "language_info": {
      "name": "python"
    }
  },
  "cells": [
    {
      "cell_type": "markdown",
      "metadata": {
        "id": "view-in-github",
        "colab_type": "text"
      },
      "source": [
        "<a href=\"https://colab.research.google.com/github/Adarshthakur-850/age_detector/blob/main/age_detector.ipynb\" target=\"_parent\"><img src=\"https://colab.research.google.com/assets/colab-badge.svg\" alt=\"Open In Colab\"/></a>"
      ]
    },
    {
      "cell_type": "code",
      "execution_count": 1,
      "metadata": {
        "colab": {
          "base_uri": "https://localhost:8080/"
        },
        "id": "9Q0YmiakHOtZ",
        "outputId": "2a75c1ad-1669-4492-dc00-bf4ec2ac7a6d"
      },
      "outputs": [
        {
          "output_type": "stream",
          "name": "stdout",
          "text": [
            "Enter date of birth in DD/MM/YY format: 04/08/2003\n",
            "Enter current date in DD/MM/YY format: 07/06/2025\n",
            "22 Years , 262 Months and 3 Days\n",
            "Total:  7977 Days\n"
          ]
        }
      ],
      "source": [
        "\n",
        "date01, month01, year01 = input(\n",
        "    \"Enter date of birth in DD/MM/YY format: \").split('/')\n",
        "date02, month02, year02 = input(\n",
        "    \"Enter current date in DD/MM/YY format: \").split('/')\n",
        "\n",
        "\n",
        "year1 = int(year01)\n",
        "year2 = int(year02)\n",
        "\n",
        "totyr = year2 - year1\n",
        "\n",
        "month1 = int(month01)\n",
        "month2 = int(month02)\n",
        "\n",
        "date1 = int(date01)\n",
        "date2 = int(date02)\n",
        "\n",
        "day = (date2-date1)\n",
        "\n",
        "\n",
        "def leap(year1, year2):\n",
        "    days = 0\n",
        "    for year in range(year1, year2):\n",
        "        if year % 4 == 0 or year % 100 == 0:\n",
        "            if year % 400 == 0:\n",
        "                days += 365\n",
        "                continue\n",
        "            days += 366\n",
        "            continue\n",
        "        days += 365\n",
        "    return days\n",
        "\n",
        "\n",
        "daysforyears = leap(year1, year2)\n",
        "# print(int(daysforyears/365), \"Years\")\n",
        "\n",
        "\n",
        "def months(month1, month2):\n",
        "    totmonth = totyr*12\n",
        "    if month01 != \"01\":\n",
        "        totmonth -= month1-1\n",
        "\n",
        "    if month02 != \"01\":\n",
        "        totmonth += month2-1\n",
        "    return totmonth\n",
        "\n",
        "# print(\"Total: \", int(monthsforyears*30.439)+day-1, \"Days\")\n",
        "\n",
        "\n",
        "monthsforyears = months(month1, month2)\n",
        "\n",
        "if day < 0:\n",
        "\n",
        "    monthsforyears -= 1\n",
        "    day = 31+day\n",
        "\n",
        "print(int(daysforyears/365), \"Years ,\",\n",
        "      monthsforyears, \"Months and\", day, \"Days\")\n",
        "\n",
        "print(\"Total: \", int(monthsforyears*30.437)+day, \"Days\")"
      ]
    }
  ]
}